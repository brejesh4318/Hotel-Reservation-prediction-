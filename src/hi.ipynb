{
 "cells": [
  {
   "cell_type": "markdown",
   "id": "e2dc2549",
   "metadata": {},
   "source": [
    "Input: nums = [1,2,4]\n",
    "\n",
    "Output: 3"
   ]
  },
  {
   "cell_type": "markdown",
   "id": "9881149d",
   "metadata": {},
   "source": [
    "Because nums is circular, nums[0] and nums[2] are adjacent. They have the maximum absolute difference of |4 - 1| = 3."
   ]
  },
  {
   "cell_type": "code",
   "execution_count": 13,
   "id": "cfcb4f9f",
   "metadata": {},
   "outputs": [
    {
     "name": "stdout",
     "output_type": "stream",
     "text": [
      "pairs are 2 and 1 with difference 1\n",
      "pairs are 4 and 1 with difference 3\n"
     ]
    }
   ],
   "source": [
    "max =0\n",
    "value=0\n",
    "nums = [1,2,4]\n",
    "for x in nums:\n",
    "    for y in nums:\n",
    "         value =x - y\n",
    "         if value > max :\n",
    "            max = value\n",
    "            print(f\"pairs are {x} and {y} with difference {max}\")\n",
    "        \n",
    "            \n",
    "            \n",
    "        \n",
    "    "
   ]
  },
  {
   "cell_type": "code",
   "execution_count": 12,
   "id": "98806ae3",
   "metadata": {},
   "outputs": [
    {
     "data": {
      "text/plain": [
       "3"
      ]
     },
     "execution_count": 12,
     "metadata": {},
     "output_type": "execute_result"
    }
   ],
   "source": [
    "max"
   ]
  },
  {
   "cell_type": "markdown",
   "id": "375a86db",
   "metadata": {},
   "source": [
    "Input: s = \"aaaaabbc\"\n",
    "\n",
    "Output: 3\n",
    "\n",
    "Explanation:\n",
    "\n",
    "The character 'a' has an odd frequency of 5, and 'b' has an even frequency of 2.\n",
    "The maximum difference is 5 - 2 = 3."
   ]
  },
  {
   "cell_type": "code",
   "execution_count": 11,
   "id": "2255f2f2",
   "metadata": {},
   "outputs": [
    {
     "ename": "TypeError",
     "evalue": "can only concatenate str (not \"int\") to str",
     "output_type": "error",
     "traceback": [
      "\u001b[1;31m---------------------------------------------------------------------------\u001b[0m",
      "\u001b[1;31mTypeError\u001b[0m                                 Traceback (most recent call last)",
      "Cell \u001b[1;32mIn[11], line 6\u001b[0m\n\u001b[0;32m      4\u001b[0m s \u001b[38;5;241m=\u001b[39m [\u001b[38;5;124m\"\u001b[39m\u001b[38;5;124maaaaabbc\u001b[39m\u001b[38;5;124m\"\u001b[39m]\n\u001b[0;32m      5\u001b[0m \u001b[38;5;28;01mfor\u001b[39;00m x \u001b[38;5;129;01min\u001b[39;00m g:\n\u001b[1;32m----> 6\u001b[0m     \u001b[38;5;28;01mif\u001b[39;00m x \u001b[38;5;241m==\u001b[39m \u001b[43mx\u001b[49m\u001b[43m \u001b[49m\u001b[38;5;241;43m+\u001b[39;49m\u001b[43m \u001b[49m\u001b[38;5;241;43m1\u001b[39;49m:\n\u001b[0;32m      7\u001b[0m         freq \u001b[38;5;241m+\u001b[39m\u001b[38;5;241m=\u001b[39m \u001b[38;5;241m1\u001b[39m\n\u001b[0;32m      8\u001b[0m         \u001b[38;5;28;01mif\u001b[39;00m freq \u001b[38;5;241m%\u001b[39m \u001b[38;5;241m2\u001b[39m \u001b[38;5;241m==\u001b[39m \u001b[38;5;241m0\u001b[39m:\n",
      "\u001b[1;31mTypeError\u001b[0m: can only concatenate str (not \"int\") to str"
     ]
    }
   ],
   "source": [
    "odd_freq = 0\n",
    "even_freq = 0\n",
    "freq = 0\n",
    "s = [\"aaaaabbc\"]\n",
    "for x in g:\n",
    "    if x == x + 1:\n",
    "        freq += 1\n",
    "        if freq % 2 == 0:\n",
    "            even_freq += 1\n",
    "        else:\n",
    "            odd_freq += 1       \n",
    "    \n",
    "        \n",
    "        # if x ==y:\n",
    "        #     freq += 1\n",
    "            \n",
    "print(odd_freq)\n",
    "print(even_freq)"
   ]
  },
  {
   "cell_type": "code",
   "execution_count": 22,
   "id": "561d12d9",
   "metadata": {},
   "outputs": [
    {
     "name": "stdout",
     "output_type": "stream",
     "text": [
      "{'aaaaabbc'}\n"
     ]
    }
   ],
   "source": [
    "print(set(s))"
   ]
  },
  {
   "cell_type": "code",
   "execution_count": null,
   "id": "7bb44729",
   "metadata": {},
   "outputs": [
    {
     "data": {
      "text/plain": [
       "'aaaaabbc'"
      ]
     },
     "execution_count": 21,
     "metadata": {},
     "output_type": "execute_result"
    }
   ],
   "source": [
    "odd = 0\n",
    "even = 0\n",
    "for ch in set(s):\n",
    "    count = s.count(ch)\n",
    "    \n",
    "\n",
    "    "
   ]
  },
  {
   "cell_type": "code",
   "execution_count": 13,
   "id": "148acf62",
   "metadata": {},
   "outputs": [
    {
     "name": "stdout",
     "output_type": "stream",
     "text": [
      "3\n"
     ]
    }
   ],
   "source": [
    "def max_diff(s):\n",
    "    odd = 0\n",
    "    even = 0\n",
    "    for ch in set(s):\n",
    "        count = s.count(ch)\n",
    "        if count % 2 == 0:\n",
    "            even = max(even, count)\n",
    "        else:\n",
    "            odd = max(odd, count)\n",
    "    return odd - even if odd and even else 0\n",
    "\n",
    "# Test\n",
    "print(max_diff(\"aaaaabbc\"))  # Output: 3\n"
   ]
  },
  {
   "cell_type": "code",
   "execution_count": null,
   "id": "9e0e3204",
   "metadata": {},
   "outputs": [],
   "source": [
    "\n",
    "        "
   ]
  }
 ],
 "metadata": {
  "kernelspec": {
   "display_name": "venv",
   "language": "python",
   "name": "python3"
  },
  "language_info": {
   "codemirror_mode": {
    "name": "ipython",
    "version": 3
   },
   "file_extension": ".py",
   "mimetype": "text/x-python",
   "name": "python",
   "nbconvert_exporter": "python",
   "pygments_lexer": "ipython3",
   "version": "3.10.0"
  }
 },
 "nbformat": 4,
 "nbformat_minor": 5
}
